{
 "cells": [
  {
   "cell_type": "code",
   "execution_count": 58,
   "id": "d4b91901",
   "metadata": {},
   "outputs": [],
   "source": [
    "import numpy as np\n",
    "np.set_printoptions(suppress=True, threshold=np.inf)\n",
    "import pandas as pd\n",
    "pd.set_option('display.float_format',lambda x : '%.2f' % x)\n",
    "import pde\n",
    "\n",
    "class Diffusion_Model():\n",
    "    def __init__(self, diffusivity=1, x_range = 10, y_range = 10,\\\n",
    "                 initial_field = np.zeros((10, 10)), R_field = np.zeros((10, 10))):\n",
    "        self.diffusivity = diffusivity\n",
    "        self.x_range = x_range\n",
    "        self.y_range = y_range\n",
    "        self.grid = pde.UnitGrid([x_range, y_range])\n",
    "        self.R_field = pde.ScalarField(grid = self.grid, data = R_field)\n",
    "        self.initial_field = pde.ScalarField(grid = self.grid, data = initial_field)\n",
    "        self.PHY_PDE = DiffusionPDE_withR(diffusivity=diffusivity, R = self.R_field)\n",
    "        \n",
    "    def solve(self, t):\n",
    "        return self.PHY_PDE.solve(self.initial_field, t_range = t).data\n",
    "\n",
    "class DiffusionPDE_withR(pde.PDEBase):\n",
    "    def __init__(self, diffusivity=1, bc=\"auto_periodic_neumann\", bc_laplace=\"auto_periodic_neumann\", R = 0):\n",
    "        \"\"\" initialize the class with a diffusivity and boundary conditions\n",
    "        for the actual field and its second derivative \"\"\"\n",
    "        self.diffusivity = diffusivity\n",
    "        self.bc = bc\n",
    "        self.bc_laplace = bc_laplace\n",
    "        self.R = R\n",
    "        \n",
    "    def evolution_rate(self, state, t=0):\n",
    "        \"\"\" numpy implementation of the evolution equation \"\"\"\n",
    "        state_lapacian = state.laplace(bc=self.bc)\n",
    "        state_gradient = state.gradient(bc=self.bc)\n",
    "        return (self.diffusivity * state_lapacian\n",
    "                + self.R - state)\n",
    "\n",
    "\"\"\" Example \"\"\"\n",
    "diffusivity_K = 10 # diffusivity\n",
    "\n",
    "grid_x = grid_y = 10 # x,y coordinate range\n",
    "\n",
    "initial_field_test = 10 * np.ones((grid_x, grid_y))\\\n",
    "                    + np.random.random((grid_x, grid_y))# randomly initialize \"initial_field\" map matrix around 10\n",
    "\n",
    "R_test = np.zeros((grid_x, grid_y))# initialize pollution resource map matrix\n",
    "R_test[7][2] = 1000 # a pollution resource in [7][2]\n",
    "\n",
    "model_test = Diffusion_Model(diffusivity = diffusivity_K, x_range = grid_x, y_range = grid_y,\\\n",
    "                 initial_field = initial_field_test, R_field = R_test) # build model"
   ]
  },
  {
   "cell_type": "code",
   "execution_count": 59,
   "id": "5a2e8c05",
   "metadata": {},
   "outputs": [
    {
     "data": {
      "application/vnd.jupyter.widget-view+json": {
       "model_id": "20ce3248a3ae43888cc0bfc5ca138901",
       "version_major": 2,
       "version_minor": 0
      },
      "text/plain": [
       "  0%|          | 0/1.0 [00:00<?, ?it/s]"
      ]
     },
     "metadata": {},
     "output_type": "display_data"
    },
    {
     "data": {
      "text/plain": [
       "array([[ 5.39303775,  5.34334435,  5.23681078,  5.07146001,  4.86563568,\n",
       "         4.64800824,  4.4490441 ,  4.28853045,  4.17857747,  4.12290008],\n",
       "       [ 5.86084118,  5.80541073,  5.67221854,  5.45101765,  5.16660371,\n",
       "         4.87045655,  4.60232915,  4.39221709,  4.24933866,  4.17848852],\n",
       "       [ 6.87849032,  6.82226175,  6.64509373,  6.28998568,  5.82352961,\n",
       "         5.34091082,  4.92285767,  4.60177264,  4.39195518,  4.28817259],\n",
       "       [ 8.6018699 ,  8.59591508,  8.38554289,  7.77302601,  6.93649884,\n",
       "         6.1113209 ,  5.42306045,  4.92232335,  4.60150451,  4.4481069 ],\n",
       "       [11.23059922, 11.45428087, 11.36901559, 10.21119855,  8.65514098,\n",
       "         7.21945567,  6.1104856 ,  5.33948357,  4.86868814,  4.64607638],\n",
       "       [14.88430322, 15.88061982, 16.63351331, 14.10834481, 11.09052525,\n",
       "         8.65408935,  6.93453338,  5.82088636,  5.16349167,  4.86230689],\n",
       "       [19.25167386, 22.33467343, 27.00687894, 20.01003811, 14.10724705,\n",
       "        10.20897107,  7.76978462,  6.28588224,  5.4463328 ,  5.0664592 ],\n",
       "       [22.7687896 , 29.72214197, 51.98604289, 27.00591869, 16.63139861,\n",
       "        11.3656867 ,  8.38101677,  6.63956788,  5.66593409,  5.23014123],\n",
       "       [21.9942832 , 25.12664433, 29.72145258, 22.33299611, 15.87773872,\n",
       "        11.45005984,  8.59038572,  6.81555619,  5.79784661,  5.33530996],\n",
       "       [20.72442217, 21.99392928, 22.76773952, 19.24961991, 14.88099577,\n",
       "        11.22589989,  8.59576421,  6.87113998,  5.85254732,  5.38424116]])"
      ]
     },
     "execution_count": 59,
     "metadata": {},
     "output_type": "execute_result"
    }
   ],
   "source": [
    "model_test.solve(1) # model output at t = 1"
   ]
  },
  {
   "cell_type": "code",
   "execution_count": 60,
   "id": "251b649f",
   "metadata": {},
   "outputs": [
    {
     "data": {
      "application/vnd.jupyter.widget-view+json": {
       "model_id": "b57d0a17ae584cc6a3d5ca79aae82b13",
       "version_major": 2,
       "version_minor": 0
      },
      "text/plain": [
       "  0%|          | 0/10.0 [00:00<?, ?it/s]"
      ]
     },
     "metadata": {},
     "output_type": "display_data"
    },
    {
     "data": {
      "text/plain": [
       "array([[ 4.86244375,  4.7517667 ,  4.52908281,  4.20372336,  3.80946762,\n",
       "         3.39351443,  3.00569077,  2.68444465,  2.45764744,  2.3405383 ],\n",
       "       [ 5.45919622,  5.33943174,  5.08391088,  4.69393921,  4.21105708,\n",
       "         3.70578658,  3.23873059,  2.85919145,  2.59323806,  2.45764744],\n",
       "       [ 6.72211431,  6.59539011,  6.28376533,  5.74370175,  5.05919279,\n",
       "         4.34736618,  3.7108798 ,  3.20408264,  2.85919145,  2.68444465],\n",
       "       [ 8.78321229,  8.69797255,  8.33702693,  7.51656933,  6.43580575,\n",
       "         5.35309731,  4.42013381,  3.7108798 ,  3.23873059,  3.00569077],\n",
       "       [11.80881845, 11.94330041, 11.68779266, 10.29598968,  8.46393657,\n",
       "         6.73839631,  5.35309731,  4.34736618,  3.70578658,  3.39351443],\n",
       "       [15.87976977, 16.77600021, 17.33887325, 14.55125154, 11.22530081,\n",
       "         8.46393657,  6.43580575,  5.05919278,  4.21105708,  3.80946762],\n",
       "       [20.64351785, 23.61660075, 28.07909107, 20.79397063, 14.55125154,\n",
       "        10.29598968,  7.51656933,  5.74370175,  4.69393921,  4.20372336],\n",
       "       [24.49758311, 31.33220712, 53.37053481, 28.07909107, 17.33887325,\n",
       "        11.68779266,  8.33702693,  6.28376533,  5.08391088,  4.52908281],\n",
       "       [23.96753392, 26.97514155, 31.33220712, 23.61660075, 16.77600021,\n",
       "        11.94330041,  8.69797255,  6.59539011,  5.33943174,  4.7517667 ],\n",
       "       [22.82614447, 23.96753392, 24.49758311, 20.64351785, 15.87976977,\n",
       "        11.80881845,  8.78321229,  6.72211431,  5.45919622,  4.86244375]])"
      ]
     },
     "execution_count": 60,
     "metadata": {},
     "output_type": "execute_result"
    }
   ],
   "source": [
    "model_test.solve(10) # model output at t = 10"
   ]
  },
  {
   "cell_type": "code",
   "execution_count": 61,
   "id": "e47269ee",
   "metadata": {},
   "outputs": [
    {
     "data": {
      "application/vnd.jupyter.widget-view+json": {
       "model_id": "1274789dcd444bbb8416bc95885be3ee",
       "version_major": 2,
       "version_minor": 0
      },
      "text/plain": [
       "  0%|          | 0/100.0 [00:00<?, ?it/s]"
      ]
     },
     "metadata": {},
     "output_type": "display_data"
    },
    {
     "data": {
      "text/plain": [
       "array([[ 4.86243463,  4.75170521,  4.52912094,  4.20362437,  3.80952981,\n",
       "         3.39340713,  3.00574466,  2.68436141,  2.45766382,  2.34050231],\n",
       "       [ 5.45913473,  5.33952225,  5.08371227,  4.69413854,  4.21078859,\n",
       "         3.70600997,  3.23848616,  2.85934496,  2.59310245,  2.45766382],\n",
       "       [ 6.72215245,  6.5951915 ,  6.28401704,  5.74333365,  5.0595533 ,\n",
       "         4.34696056,  3.71120281,  3.20378584,  2.85934496,  2.68436141],\n",
       "       [ 8.78311331,  8.69817189,  8.33665883,  7.51698223,  6.43530052,\n",
       "         5.35355745,  4.41967582,  3.71120281,  3.23848616,  3.00574466],\n",
       "       [11.80888068, 11.94303195, 11.6881532 , 10.29548446,  8.4644491 ,\n",
       "         6.73783871,  5.35355745,  4.34696056,  3.70600997,  3.39340713],\n",
       "       [15.87966251, 16.77622364, 17.33846767, 14.5517117 , 11.22474322,\n",
       "         8.4644491 ,  6.43530052,  5.0595533 ,  4.21078859,  3.80952981],\n",
       "       [20.64357179, 23.61635637, 28.07941413, 20.79351268, 14.5517117 ,\n",
       "        10.29548446,  7.51698223,  5.74333365,  4.69413854,  4.20362437],\n",
       "       [24.49749994, 31.33236069, 53.37023806, 28.07941413, 17.33846767,\n",
       "        11.6881532 ,  8.33665883,  6.28401704,  5.08371227,  4.52912094],\n",
       "       [23.96755037, 26.975006  , 31.33236069, 23.61635637, 16.77622364,\n",
       "        11.94303195,  8.69817189,  6.5951915 ,  5.33952225,  4.75170521],\n",
       "       [22.82610855, 23.96755037, 24.49749994, 20.64357179, 15.87966251,\n",
       "        11.80888068,  8.78311331,  6.72215245,  5.45913473,  4.86243463]])"
      ]
     },
     "execution_count": 61,
     "metadata": {},
     "output_type": "execute_result"
    }
   ],
   "source": [
    "model_test.solve(100) # model output at t = 100"
   ]
  }
 ],
 "metadata": {
  "kernelspec": {
   "display_name": "Python 3.10.7 64-bit",
   "language": "python",
   "name": "python3"
  },
  "language_info": {
   "codemirror_mode": {
    "name": "ipython",
    "version": 3
   },
   "file_extension": ".py",
   "mimetype": "text/x-python",
   "name": "python",
   "nbconvert_exporter": "python",
   "pygments_lexer": "ipython3",
   "version": "3.10.7"
  },
  "vscode": {
   "interpreter": {
    "hash": "3196968d684371006099b3d55edeef8ed90365227a30deaef86e5d4aa8519be0"
   }
  }
 },
 "nbformat": 4,
 "nbformat_minor": 5
}
