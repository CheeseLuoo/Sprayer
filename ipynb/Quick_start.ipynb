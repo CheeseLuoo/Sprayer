{
 "cells": [
  {
   "cell_type": "code",
   "execution_count": null,
   "id": "dcc7d73a",
   "metadata": {},
   "outputs": [],
   "source": [
    "from pathlib import Path\n",
    "import numpy as np\n",
    "import pandas as pd\n",
    "import os\n",
    "import time as tm\n",
    "\n",
    "import sys\n",
    "sys.path.append('..')\n",
    "\n",
    "import Sprayer_PDE as SP\n",
    "\n",
    "import Sprinkler_Scheduling"
   ]
  },
  {
   "cell_type": "markdown",
   "id": "af6241a0",
   "metadata": {},
   "source": [
    "# Environment -- PINNS"
   ]
  },
  {
   "cell_type": "code",
   "execution_count": null,
   "id": "e2000d60",
   "metadata": {},
   "outputs": [],
   "source": [
    "\n",
    "Setting = Sprinkler_Scheduling.utilities.Config()"
   ]
  },
  {
   "cell_type": "code",
   "execution_count": null,
   "id": "f2bcea52",
   "metadata": {},
   "outputs": [],
   "source": [
    "\n",
    "# starttime = Setting.starttime.replace(' ', '-').replace(':', '-')\n",
    "Savedir = '{}/{}/teamsize_{}'.format(Setting.root_dir,Setting.strategy_name,Setting.team_size)\n",
    "Savename = 'seed{}'.format(Setting.seed)\n",
    "Setting.save_dir = Savedir\n",
    "Setting.save_name = Savename\n",
    "evaluator = Sprinkler_Scheduling.experiments.Evaluator()\n",
    "logger = Sprinkler_Scheduling.experiments.Logger(None, Setting)"
   ]
  },
  {
   "cell_type": "markdown",
   "id": "1bc18829",
   "metadata": {},
   "source": [
    "# Sensor"
   ]
  },
  {
   "cell_type": "code",
   "execution_count": null,
   "id": "fdefadbb",
   "metadata": {},
   "outputs": [],
   "source": [
    "sensor = Sprinkler_Scheduling.sensors.Sprinkler(\n",
    "    Setting = Setting\n",
    ")"
   ]
  },
  {
   "cell_type": "markdown",
   "id": "c9ede792",
   "metadata": {},
   "source": [
    "# Pilot Survey"
   ]
  },
  {
   "cell_type": "code",
   "execution_count": null,
   "id": "6e7a7361",
   "metadata": {},
   "outputs": [],
   "source": [
    "rng = Sprinkler_Scheduling.experiments.utilities.seed_everything(Setting = Setting)"
   ]
  },
  {
   "cell_type": "markdown",
   "id": "d6aa6e0d",
   "metadata": {},
   "source": [
    "# Set initual data"
   ]
  },
  {
   "cell_type": "code",
   "execution_count": null,
   "id": "f791e1a7",
   "metadata": {},
   "outputs": [],
   "source": [
    "\n",
    "if Setting.randomsource == True:\n",
    "    # gengerate two set of random numbers for source locations\n",
    "    numbers = rng.randint(0, 19, size=Setting.sourcenum * 2)\n",
    "    pairs = rng.choice(numbers, size=(Setting.sourcenum, 2), replace=False)\n",
    "    for i in range(Setting.sourcenum):\n",
    "        number = rng.randint(40, 70, size=1)\n",
    "        Setting.RR[i,0] = int(pairs[i,0])\n",
    "        Setting.RR[i,1] = int(pairs[i,1])\n",
    "        Setting.RR[i,2] = number\n",
    "\n",
    "s = 1\n",
    "Setting.R =  -3 * np.ones((Setting.grid_x, Setting.grid_y)) + 6 * np.random.random((Setting.grid_x, Setting.grid_y))\n",
    "for i in range(Setting.sourcenum):\n",
    "        Setting.R[Setting.RR[i,0],Setting.RR[i,1]] = s*Setting.RR[i,2]\n",
    "\n",
    "env_model = SP.Diffusion_Model(x_range = Setting.grid_x, y_range = Setting.grid_y,\\\n",
    "                 initial_field =  Setting.env, R_field =  Setting.R, data_sprayer_train = Setting.data_sprayer_train, t_start = 0) # build model\n",
    "Setting.env = env_model.solve(10)[-1]\n",
    "sensor.set_env(Setting.env)\n",
    "\n",
    "env_model = SP.Diffusion_Model(x_range = Setting.grid_x, y_range = Setting.grid_y,\\\n",
    "                 initial_field =  Setting.env, R_field =  Setting.R, data_sprayer_train = Setting.data_sprayer_train, t_start = 0) # build model\n",
    "\n",
    "y_init = np.zeros((Setting.num_init_samples,1))\n",
    "y_stations = np.zeros((Setting.station_size*Setting.time_before_sche,1))\n",
    "time_init = np.zeros((Setting.num_init_samples,1))\n",
    "time_stations = np.zeros((Setting.station_size*Setting.time_before_sche,1))\n",
    "\n",
    "for time in range(Setting.time_before_sche):\n",
    "    time_stations[Setting.station_size*time:Setting.station_size*(time+1)] = (time-Setting.time_before_sche+1)*1\n",
    "    Setting.env = env_model.solve((time+1)*5)[-1]\n",
    "    sensor.set_env(Setting.env)\n",
    "    \n",
    "for time in range(Setting.num_init_samples):\n",
    "    y_init[time] = sensor.sense(states=Setting.x_init[time], rng=rng).reshape(-1, 1)\n",
    "    if time == 0:\n",
    "        y_stations[:] = y_init[time] - 20\n",
    "    time_init[time] = (time+1)*1\n",
    "    Setting.env = env_model.solve((1+Setting.time_before_sche+time)*5)[-1]\n",
    "    sensor.set_env(Setting.env)\n",
    "    \n",
    "Setting.x_init = np.hstack((Setting.x_init,time_init))\n",
    "\n",
    "Setting.x_stations = Setting.x_station\n",
    "for i in range(Setting.time_before_sche-1):\n",
    "    Setting.x_stations = np.vstack((Setting.x_stations,Setting.x_station))\n",
    "Setting.x_stations = np.hstack((Setting.x_stations,time_stations))\n",
    "\n",
    "Setting.x_init = np.vstack((Setting.x_stations,Setting.x_init))\n",
    "y_init = np.vstack((y_stations,y_init))"
   ]
  },
  {
   "cell_type": "markdown",
   "id": "497dbb02",
   "metadata": {},
   "source": [
    "# Model"
   ]
  },
  {
   "cell_type": "code",
   "execution_count": null,
   "id": "9bc31878",
   "metadata": {},
   "outputs": [],
   "source": [
    "Setting.time_stamp = Setting.x_init[:,2].max(axis=0, keepdims=False)\n",
    "kernel = Sprinkler_Scheduling.kernels.RBF(Setting)\n",
    "model = Sprinkler_Scheduling.models.GPR(\n",
    "    x_train=Setting.x_init,\n",
    "    y_train=y_init,\n",
    "    kernel=kernel,\n",
    "    noise=Setting.init_noise,\n",
    "    lr_hyper=Setting.lr_hyper,\n",
    "    lr_nn=Setting.lr_nn,\n",
    "    is_normalized = True,\n",
    "    time_stamp = Setting.time_stamp,\n",
    ")"
   ]
  },
  {
   "cell_type": "code",
   "execution_count": null,
   "id": "9a41a5ae",
   "metadata": {},
   "outputs": [],
   "source": [
    "model.optimize(num_iter=model.num_train, verbose=True)"
   ]
  },
  {
   "cell_type": "markdown",
   "id": "b3b7c8d3",
   "metadata": {},
   "source": [
    "# Robot"
   ]
  },
  {
   "cell_type": "code",
   "execution_count": null,
   "id": "37d6589e",
   "metadata": {},
   "outputs": [],
   "source": [
    "vehicle_team = dict()\n",
    "for i in range(Setting.team_size):\n",
    "    robot = Sprinkler_Scheduling.robots.SPRINKLER_REPLENISHANYWHERE(\n",
    "        init_state = np.array([Setting.x_init[-1, 0], Setting.x_init[-1, 1]]),\n",
    "        Setting = Setting\n",
    "    )\n",
    "    vehicle_team[i+1] = robot "
   ]
  },
  {
   "cell_type": "markdown",
   "id": "481c7a9b",
   "metadata": {},
   "source": [
    "# Strategy"
   ]
  },
  {
   "cell_type": "code",
   "execution_count": null,
   "id": "bf0889e5",
   "metadata": {},
   "outputs": [],
   "source": [
    "strategy = Sprinkler_Scheduling.strategies.SAEffectOrientedSelectiveSpray(\n",
    "            task_extent=Setting.task_extent,\n",
    "            rng=rng,\n",
    "            vehicle_team=vehicle_team,\n",
    "        )\n",
    "Setting.strategy = strategy"
   ]
  },
  {
   "cell_type": "markdown",
   "id": "b3423e74",
   "metadata": {},
   "source": [
    "# Experiment"
   ]
  },
  {
   "cell_type": "code",
   "execution_count": null,
   "id": "10b0cf38",
   "metadata": {},
   "outputs": [],
   "source": [
    "\n",
    "def run(rng, model, Setting, sensor, evaluator, logger, vehicle_team) -> None:\n",
    "    current_step = 0 \n",
    "    adaptive_step = Setting.adaptive_step \n",
    "    change_step = 0\n",
    "    spray_effect = 0 \n",
    "    result, MI_information, observed_env, computed_effect = None, None, None, None\n",
    "    tstart = 0\n",
    "    while current_step < Setting.max_num_samples:\n",
    "        allpoint_list = []\n",
    "        env_list = []\n",
    "        for i in range (Setting.task_extent[0],Setting.task_extent[1]):\n",
    "            for j in range (Setting.task_extent[2],Setting.task_extent[3]):\n",
    "                allpoint_list.append([i, j, model.time_stamp])\n",
    "                env_list.append(Setting.env[i,j])\n",
    "        allpoint = np.array(allpoint_list)\n",
    "        env = np.array(env_list)\n",
    "        mean, _ = model(allpoint)\n",
    "        sprayeffect_all = Sprinkler_Scheduling.objectives.sprayeffect.spray_effect(allpoint, allpoint, mean, Setting.task_extent).ravel()\n",
    "        prior_diag_std, poste_diag_std, _, _ = model.prior_poste(allpoint)\n",
    "        hprior = Sprinkler_Scheduling.objectives.entropy.gaussian_entropy(prior_diag_std.ravel())\n",
    "        hposterior = Sprinkler_Scheduling.objectives.entropy.gaussian_entropy(poste_diag_std.ravel())\n",
    "        mi_all = hprior - hposterior\n",
    "        if np.any(mi_all < 0.0):\n",
    "            print(mi_all.ravel())\n",
    "            raise ValueError(\"Predictive MI < 0.0!\")\n",
    "        \n",
    "        sprayeffect_all = Sprinkler_Scheduling.objectives.sprayeffect.spray_effect(allpoint, allpoint, env, Setting.task_extent).ravel()\n",
    "        MI_information = np.zeros((Setting.task_extent[1]-Setting.task_extent[0],Setting.task_extent[3]-Setting.task_extent[2]))\n",
    "        observed_env = np.zeros((Setting.task_extent[1]-Setting.task_extent[0],Setting.task_extent[3]-Setting.task_extent[2]))\n",
    "        computed_effect = np.zeros((Setting.task_extent[1]-Setting.task_extent[0],Setting.task_extent[3]-Setting.task_extent[2]))\n",
    "        for i in range (Setting.task_extent[0],Setting.task_extent[1]):\n",
    "            for j in range (Setting.task_extent[2],Setting.task_extent[3]):\n",
    "                MI_information[i,j] = mi_all[i*(Setting.task_extent[3]-Setting.task_extent[2])+j]\n",
    "                observed_env[i,j] = Setting.env[i,j]\n",
    "                computed_effect[i,j] = sprayeffect_all[i*(Setting.task_extent[3]-Setting.task_extent[2])+j]\n",
    "                \n",
    "        Setting.current_step = current_step\n",
    "        \n",
    "        \n",
    "        # scheduling and update agent goals ###################################################\n",
    "        if adaptive_step >= Setting.adaptive_step:\n",
    "            start = tm.time()\n",
    "            result = Setting.strategy.get(model = model, Setting = Setting, pred = observed_env)\n",
    "            adaptive_step = 0\n",
    "            for id, vehicle in vehicle_team.items():\n",
    "                vehicle.set_goals(result[id][0],result[id][1])\n",
    "            end = tm.time()\n",
    "            print('search_time')\n",
    "            print(end-start)    \n",
    "            \n",
    "        # calculate metrix and save \n",
    "        coverage, mean_airpollution, max_airpollution = evaluator.eval_results(Setting.env, Setting.task_extent, vehicle_team)\n",
    "        logger.append(current_step, Setting.env, observed_env, MI_information, computed_effect, vehicle_team, coverage, mean_airpollution, max_airpollution, spray_effect)\n",
    "           \n",
    "        # change source,\n",
    "        if change_step >= Setting.R_change_interval:\n",
    "            Setting.R =  -3 * np.ones((Setting.grid_x, Setting.grid_y)) + 6 * np.random.random((Setting.grid_x, Setting.grid_y))\n",
    "            change_step = 0\n",
    "            if Setting.randomsource == True:\n",
    "                # gengerate two set of random numbers for source locations\n",
    "                numbers = rng.randint(0, 4, size=Setting.sourcenum * 2)\n",
    "                pairs = rng.choice(numbers, size=(Setting.sourcenum, 2), replace=False)\n",
    "                for i in range(Setting.sourcenum):\n",
    "                    number = rng.randint(40, 70, size=1)\n",
    "                    if Setting.RR[i,0]+pairs[i,0]-2 < Setting.grid_x-1 and Setting.RR[i,0] + pairs[i,0] - 2 >=0:\n",
    "                        Setting.RR[i,0] = int(Setting.RR[i,0]+pairs[i,0]-2)\n",
    "                    if Setting.RR[i,1]+pairs[i,1]-2 < Setting.grid_y-1 and Setting.RR[i,1] + pairs[i,1] - 2 >=0:\n",
    "                        Setting.RR[i,1] = int(Setting.RR[i,1]+pairs[i,1]-2)\n",
    "                    Setting.RR[i,2] = number\n",
    "                tstart = current_step\n",
    "\n",
    "        s = 1\n",
    "        for i in range(Setting.sourcenum):\n",
    "             Setting.R[Setting.RR[i,0],Setting.RR[i,1]] = s*Setting.RR[i,2]\n",
    "        # import sys\n",
    "        # sys.exit()\n",
    "        \n",
    "        env_model1 = SP.Diffusion_Model(x_range = Setting.grid_x, y_range = Setting.grid_y,\\\n",
    "                initial_field = Setting.env, R_field =  Setting.R, data_sprayer_train = Setting.data_sprayer_train, t_start = current_step * Setting.delta_t)\n",
    "        env_withoutspray = env_model1.solve(Setting.delta_t)[-1]\n",
    "            \n",
    "        # update state \n",
    "        x_new = []\n",
    "        y_new = []\n",
    "        for id, vehicle in vehicle_team.items():\n",
    "            vehicle.update()\n",
    "            current_state = vehicle.state.copy().reshape(1, -1)\n",
    "            x_new.append(current_state)\n",
    "            y_new.append(sensor.sense(current_state, rng).reshape(-1, 1))\n",
    "            if Setting.current_step == 0:\n",
    "                Setting.data_sprayer_train.append(pd.DataFrame())\n",
    "            if vehicle.spray_flag == True:\n",
    "                new_pd = pd.DataFrame({\"time\":(Setting.current_step + 1) * Setting.delta_t, \"x\":current_state[0,0],\\\n",
    "                                        \"y\":current_state[0,1], \"spray_volume\":200},index=[0])\n",
    "                Setting.data_sprayer_train[id-1] = pd.concat([Setting.data_sprayer_train[id-1],new_pd])\n",
    "            else:\n",
    "                new_pd = pd.DataFrame({\"time\":(Setting.current_step + 1) * Setting.delta_t, \"x\":current_state[0,0],\\\n",
    "                                        \"y\":current_state[0,1], \"spray_volume\":0},index=[0])\n",
    "                Setting.data_sprayer_train[id-1] = pd.concat([Setting.data_sprayer_train[id-1],new_pd])    \n",
    "   \n",
    "        env_model2 = SP.Diffusion_Model(x_range = Setting.grid_x, y_range = Setting.grid_y,\\\n",
    "                initial_field =  Setting.env, R_field =  Setting.R, data_sprayer_train = Setting.data_sprayer_train, t_start = current_step * Setting.delta_t) # build model\n",
    "        env_withspray = env_model2.solve(Setting.delta_t)[-1]\n",
    "        \n",
    "\n",
    "        for id, vehicle in vehicle_team.items():\n",
    "            current_state = vehicle.state.copy().reshape(1, -1).astype(int)\n",
    "            for i in range(Setting.sourcenum): \n",
    "                if ((current_state[0,0]-Setting.RR[i,0])**2 + (current_state[0,1]-Setting.RR[i,1])**2) <= 2:\n",
    "\n",
    "                    in_flag = False\n",
    "                    for j in range(len(Setting.sources)):\n",
    "                        if Setting.RR[i,0] == Setting.sources[j][0] and Setting.RR[i,1] == Setting.sources[j][1]:\n",
    "                            in_flag = True\n",
    "                    if in_flag:\n",
    "                        continue\n",
    "                    else:\n",
    "                        Setting.sources.append([Setting.RR[i,0], Setting.RR[i,1]])         \n",
    "                        \n",
    "        # print(Setting.sources)   \n",
    "        Setting.env = env_withspray\n",
    "        sensor.set_env(Setting.env)\n",
    "        for i in range(len(Setting.sources)-1, -1, -1):\n",
    "            if Setting.env[Setting.sources[i][0],Setting.sources[i][1]] <= 45:\n",
    "                del Setting.sources[i]    \n",
    "        \n",
    "        spray_effect = np.sum(env_withoutspray - Setting.env)\n",
    "        # print(spray_effect)\n",
    "            \n",
    "        # using new data to update gpr model\n",
    "        x_new = np.concatenate(x_new, axis=0)\n",
    "        y_new = np.concatenate(y_new, axis=0)\n",
    "        #add time dim\n",
    "        model.time_stamp = model.time_stamp + Setting.time_co\n",
    "        Setting.time_stamp = model.time_stamp\n",
    "        model_input = np.zeros((x_new.shape[0],3))\n",
    "        model_input[:,0:2] = x_new\n",
    "        model_input[:,2:3] = model.time_stamp\n",
    "        #optimize model\n",
    "        model.add_data(model_input, y_new)\n",
    "        model.optimize(num_iter=len(y_new), verbose=False)\n",
    "        \n",
    "        adaptive_step = adaptive_step + 1     \n",
    "        current_step = current_step + 1\n",
    "        change_step = change_step + 1  \n",
    "    return 0"
   ]
  },
  {
   "cell_type": "code",
   "execution_count": null,
   "id": "313abc17",
   "metadata": {},
   "outputs": [],
   "source": [
    "start = tm.time()\n",
    "Setting.strategy = strategy\n",
    "run(rng, model, Setting, sensor, evaluator, logger, vehicle_team)\n",
    "# Sprinkler_Scheduling.experiments.utilities.print_metrics(logger, Setting.max_num_samples-1)\n",
    "end = tm.time()\n",
    "# logger.save(end-start)  # I temporarily removed \"makefile()\"."
   ]
  },
  {
   "cell_type": "code",
   "execution_count": null,
   "id": "df597aa1",
   "metadata": {},
   "outputs": [],
   "source": [
    "from Sprinkler_Scheduling.experiments import visualizer\n",
    "ani = visualizer.visual(logger)\n",
    "\n",
    "# Display the animation\n",
    "from IPython.display import HTML\n",
    "HTML(ani.to_jshtml())"
   ]
  }
 ],
 "metadata": {
  "kernelspec": {
   "display_name": "Python 3.8.16 ('forestfire1.0')",
   "language": "python",
   "name": "python3"
  },
  "language_info": {
   "codemirror_mode": {
    "name": "ipython",
    "version": 3
   },
   "file_extension": ".py",
   "mimetype": "text/x-python",
   "name": "python",
   "nbconvert_exporter": "python",
   "pygments_lexer": "ipython3",
   "version": "3.8.16"
  },
  "vscode": {
   "interpreter": {
    "hash": "e22fcd08f9f55ceeb7ce3a4380ba807d68f0f823f065a4cc1fcab64b3551734e"
   }
  }
 },
 "nbformat": 4,
 "nbformat_minor": 5
}
